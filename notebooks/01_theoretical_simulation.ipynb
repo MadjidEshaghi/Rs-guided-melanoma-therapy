{
 "cells": [
  {
   "cell_type": "markdown",
   "metadata": {},
   "source": [
    "# Figure 1: Theoretical Simulation - Emergence of Spectro-Structural Equilibrium\n",
    "\n",
    "This notebook reproduces the simulation behind Figure 1 of the manuscript, \"*The Principle of Spectro-Structural Equilibrium*.\"\n",
    "\n",
    "**Objective:** Demonstrate that maximizing the **Structurally-Weighted Resistance Entropy ($R_s$)** using the **REGO (Resistance Entropy Gradient Optimization)** algorithm simultaneously and implicitly optimizes for spectral and structural resilience.\n",
    "\n",
    "**Methodology:**\n",
    "1.  Start with a canonical heterogeneous network: a Barabási-Albert (BA) scale-free graph.\n",
    "2.  Apply the REGO algorithm, which iteratively performs degree-preserving edge swaps to greedily increase the global $R_s$ value.\n",
    "3.  At each step of the optimization, track the following metrics:\n",
    "    *   **$R_s$ (Our Metric):** The primary objective function being maximized.\n",
    "    *   **$\\\lambda_1$ (Spectral Vulnerability):** The largest eigenvalue of the adjacency matrix. Lower is better.\n",
    "    *   **$\\sigma_d^2$ (Structural Vulnerability):** The variance of the node degree distribution. Lower indicates a more homogeneous structure.\n",
    "4.  Plot the normalized values of these three metrics over the course of the optimization to visualize their co-evolution."
   ]
  },
  {
   "cell_type": "markdown",
   "metadata": {},
   "source": [
    "### 1. Imports and Setup"
   ]
  },
  {
   "cell_type": "code",
   "execution_count": null,
   "metadata": {},
   "outputs": [],
   "source": [
    "import numpy as np\n",
    "import networkx as nx\n",
    "import matplotlib.pyplot as plt\n",
    "import seaborn as sns\n",
    "from tqdm.notebook import tqdm\n",
    "\n",
    "# Import our custom functions from the src directory\n",
    "# Note: For this to work locally, you need to have the project root in your Python path.\n",
    "import sys\n",
    "sys.path.append('..') # Add the parent directory to the path\n",
    "from src.calculate_Rs import calculate_Rs\n",
    "from src.rego_optimizer import rego_optimizer\n",
    "\n",
    "sns.set_theme(style=\"whitegrid\")"
   ]
  },
  {
   "cell_type": "markdown",
   "metadata": {},
   "source": [
    "### 2. Helper Functions for Metric Calculation\n",
    "\n",
    "We define functions to calculate our key metrics: $\\lambda_1$ and $\\sigma_d^2$."
   ]
  },
  {
   "cell_type": "code",
   "execution_count": null,
   "metadata": {},
   "outputs": [],
   "source": [
    "def get_lambda_1(G):\n",
    "    \"\"\"Calculates the largest eigenvalue of the adjacency matrix.\"\"\"\n",
    "    # We use the 'lobpcg' method as it's efficient for finding the largest eigenvalue of sparse matrices\n",
    "    # k=1 means we want the largest eigenvalue\n",
    "    # We need to use a signed matrix for this calculation\n",
    "    L = nx.laplacian_matrix(G).asfptype()\n",
    "    try:\n",
    "        # Use a good initial guess for the eigenvector\n",
    "        x = np.random.rand(L.shape[0])\n",
    "        # Compute the largest eigenvalue of the adjacency matrix from the Laplacian\n",
    "        # A = D - L, but for max eigenvalue, it is more stable to use the adjacency matrix directly\n",
    "        A = nx.adjacency_matrix(G)\n",
    "        eigvals = nx.linalg.spectrum.eigs(A, k=1, which='LR', return_eigenvectors=False)\n",
    "        return np.real(eigvals[0])\n",
    "    except Exception as e:\n",
    "        print(f\"Eigenvalue calculation failed: {e}\")\n",
    "        return np.nan\n",
    "\n",
    "def get_degree_variance(G):\n",
    "    \"\"\"Calculates the variance of the degree distribution.\"\"\"\n",
    "    degrees = [d for n, d in G.degree()]\n",
    "    return np.var(degrees)"
   ]
  },
  {
   "cell_type": "markdown",
   "metadata": {},
   "source": [
    "### 3. Simulation Parameters and Initialization\n",
    "\n",
    "We set up the initial network and the parameters for the REGO optimization."
   ]
  },
  {
   "cell_type": "code",
   "execution_count": null,
   "metadata": {},
   "outputs": [],
   "source": [
    "# Network parameters (as in the manuscript)\n",
    "N = 1000  # Number of nodes\n",
    "M = 2     # Number of edges to attach from a new node to existing nodes\n",
    "\n",
    "# REGO optimization parameters\n",
    "MAX_ITERATIONS = 10000\n",
    "CHECKPOINT_FREQ = 100 # How often to record metrics\n",
    "\n",
    "# Seed for reproducibility\n",
    "np.random.seed(42)\n",
    "\n",
    "# Create the initial Barabási-Albert graph\n",
    "G_initial = nx.barabasi_albert_graph(N, M, seed=42)\n",
    "\n",
    "print(f\"Initial BA network created with {G_initial.number_of_nodes()} nodes and {G_initial.number_of_edges()} edges.\")"
   ]
  },
  {
   "cell_type": "markdown",
   "metadata": {},
   "source": [
    "### 4. Run the REGO Optimization\n",
    "\n",
    "This is the core of the simulation. We run the `rego_optimizer` and collect data at each checkpoint. This may take a few minutes to run."
   ]
  },
  {
   "cell_type": "code",
   "execution_count": null,
   "metadata": {},
   "outputs": [],
   "source": [
    "# Use the rego_optimizer to get the final graph and the history of swaps\n",
    "G_optimized, history = rego_optimizer(G_initial.copy(), max_iter=MAX_ITERATIONS)\n",
    "\n",
    "# Now, let's process the history to get metrics at each checkpoint\n",
    "metrics = {\n",
    "    'iteration': [],\n",
    "    'rs': [],\n",
    "    'lambda_1': [],\n",
    "    'sigma_sq_d': []\n",
    "}\n",
    "\n",
    "temp_G = G_initial.copy()\n",
    "\n",
    "# Calculate initial metrics at iteration 0\n",
    "metrics['iteration'].append(0)\n",
    "metrics['rs'].append(calculate_Rs(temp_G))\n",
    "metrics['lambda_1'].append(get_lambda_1(temp_G))\n",
    "metrics['sigma_sq_d'].append(get_degree_variance(temp_G))\n",
    "\n",
    "print(\"Processing optimization history to calculate metrics...\")\n",
    "# Iterate through the swap history and calculate metrics at each checkpoint\n",
    "for i, swap in enumerate(tqdm(history, desc=\"Analyzing Swaps\")):\n",
    "    # Apply the swap to the temporary graph\n",
    "    temp_G.remove_edges_from([(swap[0], swap[1]), (swap[2], swap[3])])\n",
    "    temp_G.add_edges_from([(swap[0], swap[2]), (swap[1], swap[3])])\n",
    "    \n",
    "    if (i + 1) % CHECKPOINT_FREQ == 0:\n",
    "        metrics['iteration'].append(i + 1)\n",
    "        metrics['rs'].append(calculate_Rs(temp_G))\n",
    "        metrics['lambda_1'].append(get_lambda_1(temp_G))\n",
    "        metrics['sigma_sq_d'].append(get_degree_variance(temp_G))\n",
    "\n",
    "print(\"Metric calculation complete.\")"
   ]
  },
  {
   "cell_type": "markdown",
   "metadata": {},
   "source": [
    "### 5. Normalize and Plot Results (Generate Figure 1)\n",
    "\n",
    "To visualize the co-evolution, we normalize each metric to its initial value (at iteration 0) and plot them on the same axes."
   ]
  },
  {
   "cell_type": "code",
   "execution_count": null,
   "metadata": {},
   "outputs": [],
   "source": [
    "# Normalize the data: value / initial_value\n",
    "norm_rs = np.array(metrics['rs']) / metrics['rs'][0]\n",
    "norm_lambda_1 = np.array(metrics['lambda_1']) / metrics['lambda_1'][0]\n",
    "norm_sigma_sq_d = np.array(metrics['sigma_sq_d']) / metrics['sigma_sq_d'][0]\n",
    "\n",
    "# Convert iterations to thousands for plotting\n",
    "iterations_k = np.array(metrics['iteration']) / 1000\n",
    "\n",
    "# Create the plot\n",
    "plt.figure(figsize=(10, 6))\n",
    "\n",
    "plt.plot(iterations_k, norm_rs, label='$R_s$ (Our Metric)', color='blue', linewidth=2.5)\n",
    "plt.plot(iterations_k, norm_lambda_1, label='$\\\lambda_1$ (Spectral)', color='red', linestyle='--', linewidth=2)\n",
    "plt.plot(iterations_k, norm_sigma_sq_d, label='$\\sigma^2_d$ (Structural)', color='darkorange', linestyle=':', linewidth=2)\n",
    "\n",
    "# Formatting the plot to match the manuscript figure\n",
    "plt.title('Emergence of Equilibrium', fontsize=16, fontweight='bold')\n",
    "plt.xlabel('REGO Optimization Iterations (×$10^3$)', fontsize=12)\n",
    "plt.ylabel('Normalized Value', fontsize=12)\n",
    "plt.legend(fontsize=11)\n",
    "plt.ylim(bottom=0.55)\n",
    "plt.xlim(left=0)\n",
    "\n",
    "# Save the figure\n",
    "# plt.savefig('../figures/figure1_simulation.png', dpi=300, bbox_inches='tight')\n",
    "\n",
    "plt.show()"
   ]
  },
  {
   "cell_type": "markdown",
   "metadata": {},
   "source": [
    "### 6. Conclusion\n",
    "\n",
    "The plot clearly shows the central finding of our theoretical analysis: as the REGO algorithm explicitly maximizes $R_s$ (blue line), it implicitly and simultaneously minimizes both spectral vulnerability ($\\\lambda_1$, red dashed line) and structural vulnerability ($\\sigma_d^2$, orange dotted line).\n",
    "\n",
    "This is the **Principle of Spectro-Structural Equilibrium** in action. The single objective of maximizing $R_s$ forces the network into a state that is robust from both a spectral and a structural perspective, resolving the conflict between the competing resilience strategies of the past."
   ]
  }
 ],
 "metadata": {
  "kernelspec": {
   "display_name": "Python 3",
   "language": "python",
   "name": "python3"
  },
  "language_info": {
   "codemirror_mode": {
    "name": "ipython",
    "version": 3
   },
   "file_extension": ".py",
   "mimetype": "text/x-python",
   "name": "python",
   "nbconvert_exporter": "python",
   "pygments_lexer": "ipython3",
   "version": "3.8.8"
  }
 },
 "nbformat": 4,
 "nbformat_minor": 4
}
